{
 "cells": [
  {
   "cell_type": "markdown",
   "metadata": {},
   "source": [
    "# Preparing the dataset for hippocampus segmentation\n",
    "\n",
    "In this notebook you will use the skills and methods that we have talked about during our EDA Lesson to prepare the hippocampus dataset using Python. Follow the Notebook, writing snippets of code where directed so using Task comments, similar to the one below, which expects you to put the proper imports in place. Write your code directly in the cell with TASK comment. Feel free to add cells as you see fit, but please make sure that code that performs that tasked activity sits in the same cell as the Task comment.\n"
   ]
  },
  {
   "cell_type": "code",
   "execution_count": 2,
   "metadata": {},
   "outputs": [
    {
     "name": "stdout",
     "output_type": "stream",
     "text": [
      "Collecting nibabel\n",
      "  Downloading nibabel-5.3.2-py3-none-any.whl.metadata (9.1 kB)\n",
      "Requirement already satisfied: numpy>=1.22 in c:\\users\\admin\\anaconda3\\lib\\site-packages (from nibabel) (1.26.4)\n",
      "Requirement already satisfied: packaging>=20 in c:\\users\\admin\\anaconda3\\lib\\site-packages (from nibabel) (23.2)\n",
      "Requirement already satisfied: typing-extensions>=4.6 in c:\\users\\admin\\anaconda3\\lib\\site-packages (from nibabel) (4.11.0)\n",
      "Downloading nibabel-5.3.2-py3-none-any.whl (3.3 MB)\n",
      "   ---------------------------------------- 0.0/3.3 MB ? eta -:--:--\n",
      "   ---------------------------------------- 0.0/3.3 MB 991.0 kB/s eta 0:00:04\n",
      "    --------------------------------------- 0.1/3.3 MB 1.1 MB/s eta 0:00:03\n",
      "    --------------------------------------- 0.1/3.3 MB 1.1 MB/s eta 0:00:03\n",
      "    --------------------------------------- 0.1/3.3 MB 1.1 MB/s eta 0:00:03\n",
      "   - -------------------------------------- 0.1/3.3 MB 403.5 kB/s eta 0:00:08\n",
      "   -- ------------------------------------- 0.2/3.3 MB 794.9 kB/s eta 0:00:04\n",
      "   --- ------------------------------------ 0.3/3.3 MB 1.1 MB/s eta 0:00:03\n",
      "   -------- ------------------------------- 0.7/3.3 MB 2.3 MB/s eta 0:00:02\n",
      "   ---------- ----------------------------- 0.9/3.3 MB 2.3 MB/s eta 0:00:02\n",
      "   --------------- ------------------------ 1.2/3.3 MB 3.1 MB/s eta 0:00:01\n",
      "   ------------------ --------------------- 1.5/3.3 MB 3.2 MB/s eta 0:00:01\n",
      "   ---------------------- ----------------- 1.8/3.3 MB 3.5 MB/s eta 0:00:01\n",
      "   ------------------------ --------------- 2.0/3.3 MB 3.7 MB/s eta 0:00:01\n",
      "   --------------------------- ------------ 2.3/3.3 MB 3.8 MB/s eta 0:00:01\n",
      "   ------------------------------- -------- 2.6/3.3 MB 4.0 MB/s eta 0:00:01\n",
      "   ---------------------------------- ----- 2.9/3.3 MB 4.1 MB/s eta 0:00:01\n",
      "   ------------------------------------- -- 3.1/3.3 MB 4.2 MB/s eta 0:00:01\n",
      "   ---------------------------------------  3.3/3.3 MB 4.2 MB/s eta 0:00:01\n",
      "   ---------------------------------------- 3.3/3.3 MB 4.1 MB/s eta 0:00:00\n",
      "Installing collected packages: nibabel\n",
      "Successfully installed nibabel-5.3.2\n"
     ]
    }
   ],
   "source": [
    "!pip install nibabel"
   ]
  },
  {
   "cell_type": "code",
   "execution_count": 2,
   "metadata": {},
   "outputs": [],
   "source": [
    "# TASK: Import the following libraries that we will use: nibabel, matplotlib, numpy\n",
    "import numpy as np \n",
    "import matplotlib.pyplot as plt\n",
    "import nibabel as nib"
   ]
  },
  {
   "cell_type": "markdown",
   "metadata": {},
   "source": [
    "It will help your understanding of the data a lot if you were able to use a tool that allows you to view NIFTI volumes, like [3D Slicer](https://www.slicer.org/). I will refer to Slicer throughout this Notebook and will be pasting some images showing what your output might look like."
   ]
  },
  {
   "cell_type": "markdown",
   "metadata": {},
   "source": [
    "## Loading NIFTI images using NiBabel\n",
    "\n",
    "NiBabel is a python library for working with neuro-imaging formats (including NIFTI) that we have used in some of the exercises throughout the course. Our volumes and labels are in NIFTI format, so we will use nibabel to load and inspect them.\n",
    "\n",
    "NiBabel documentation could be found here: https://nipy.org/nibabel/\n",
    "\n",
    "Our dataset sits in two directories - *images* and *labels*. Each image is represented by a single file (we are fortunate to have our data converted to NIFTI) and has a corresponding label file which is named the same as the image file.\n",
    "\n",
    "Note that our dataset is \"dirty\". There are a few images and labels that are not quite right. They should be quite obvious to notice, though. The dataset contains an equal amount of \"correct\" volumes and corresponding labels, and you don't need to alter values of any samples in order to get the clean dataset."
   ]
  },
  {
   "cell_type": "code",
   "execution_count": 3,
   "metadata": {},
   "outputs": [
    {
     "name": "stdout",
     "output_type": "stream",
     "text": [
      "Image shape: (34, 47, 40)\n",
      "Label shape: (34, 47, 40)\n"
     ]
    }
   ],
   "source": [
    "# TASK: Your data sits in directory /data/TrainingSet.\n",
    "# Load an image and a segmentation mask into variables called image and label\n",
    "#image_path = '/data/TrainingSet/images/hippocampus_007.nii.gz'\n",
    "#label_path = '/data/TrainingSet/labels/hippocampus_007.nii.gz'\n",
    "image_path = '../data/TrainingSet/images/hippocampus_007.nii.gz'\n",
    "label_path = '../data/TrainingSet/labels/hippocampus_007.nii.gz'\n",
    "\n",
    "image_nii = nib.load(image_path)\n",
    "label_nii = nib.load(label_path)\n",
    "\n",
    "image = image_nii.get_fdata()\n",
    "label = label_nii.get_fdata()\n",
    "\n",
    "print(\"Image shape:\", image.shape)\n",
    "print(\"Label shape:\", label.shape)"
   ]
  },
  {
   "cell_type": "code",
   "execution_count": 4,
   "metadata": {},
   "outputs": [
    {
     "name": "stdout",
     "output_type": "stream",
     "text": [
      "b'5.0.10'\n",
      "Image orientation: ('R', 'A', 'S')\n"
     ]
    }
   ],
   "source": [
    "header = image_nii.header\n",
    "print(header['descrip'])\n",
    "affine = image_nii.affine\n",
    "orientation = nib.orientations.aff2axcodes(affine)\n",
    "print(\"Image orientation:\", orientation)  "
   ]
  },
  {
   "cell_type": "code",
   "execution_count": 5,
   "metadata": {},
   "outputs": [
    {
     "data": {
      "text/plain": [
       "(0.0, 2728.510009765625)"
      ]
     },
     "execution_count": 5,
     "metadata": {},
     "output_type": "execute_result"
    }
   ],
   "source": [
    "(np.min(image), np.max(image))"
   ]
  },
  {
   "cell_type": "code",
   "execution_count": 7,
   "metadata": {},
   "outputs": [
    {
     "data": {
      "image/png": "[encoded data removed]",
      "text/plain": [
       "<Figure size 600x300 with 2 Axes>"
      ]
     },
     "metadata": {},
     "output_type": "display_data"
    }
   ],
   "source": [
    "# Nibabel can present your image data as a Numpy array by calling the method get_fdata()\n",
    "# The array will contain a multi-dimensional Numpy array with numerical values representing voxel intensities. \n",
    "# In our case, images and labels are 3-dimensional, so get_fdata will return a 3-dimensional array. You can verify this\n",
    "# by accessing the .shape attribute. What are the dimensions of the input arrays?\n",
    "\n",
    "# TASK: using matplotlib, visualize a few slices from the dataset, along with their labels. \n",
    "# You can adjust plot sizes like so if you find them too small:\n",
    "# plt.rcParams[\"figure.figsize\"] = (10,10)\n",
    "f, (ax1, ax2) = plt.subplots(1, 2, sharey=True, figsize =(6,3))\n",
    "ax1.imshow(image[10,:,:], cmap='gray')\n",
    "ax1.set_title(f'Image at Slice 10')\n",
    "ax2.imshow(label[10,:,:], cmap='gray')\n",
    "ax2.set_title(f'Label at Slice 10')\n",
    "plt.show() \n"
   ]
  },
  {
   "cell_type": "markdown",
   "metadata": {},
   "source": [
    "Load volume into 3D Slicer to validate that your visualization is correct and get a feel for the shape of structures.Try to get a visualization like the one below (hint: while Slicer documentation is not particularly great, there are plenty of YouTube videos available! Just look it up on YouTube if you are not sure how to do something)\n",
    "\n",
    "![3D slicer](img/Slicer.png)"
   ]
  },
  {
   "cell_type": "code",
   "execution_count": null,
   "metadata": {},
   "outputs": [],
   "source": [
    "# Stand out suggestion: use one of the simple Volume Rendering algorithms that we've\n",
    "# implemented in one of our earlier lessons to visualize some of these volumes"
   ]
  },
  {
   "cell_type": "markdown",
   "metadata": {},
   "source": [
    "## Looking at single image data\n",
    "In this section we will look closer at the NIFTI representation of our volumes. In order to measure the physical volume of hippocampi, we need to understand the relationship between the sizes of our voxels and the physical world."
   ]
  },
  {
   "cell_type": "code",
   "execution_count": 7,
   "metadata": {
    "scrolled": true
   },
   "outputs": [
    {
     "name": "stdout",
     "output_type": "stream",
     "text": [
      "Image format: <class 'nibabel.nifti1.Nifti1Header'>\n"
     ]
    }
   ],
   "source": [
    "# Nibabel supports many imaging formats, NIFTI being just one of them. I told you that our images \n",
    "# are in NIFTI, but you should confirm if this is indeed the format that we are dealing with\n",
    "# TASK: using .header_class attribute - what is the format of our images?\n",
    "print(f'Image format: {image_nii.header_class}') "
   ]
  },
  {
   "cell_type": "markdown",
   "metadata": {},
   "source": [
    "Further down we will be inspecting .header attribute that provides access to NIFTI metadata. You can use this resource as a reference for various fields: https://brainder.org/2012/09/23/the-nifti-file-format/"
   ]
  },
  {
   "cell_type": "code",
   "execution_count": 9,
   "metadata": {},
   "outputs": [
    {
     "name": "stdout",
     "output_type": "stream",
     "text": [
      "Bits per pixel are used:  32\n"
     ]
    }
   ],
   "source": [
    "# TASK: How many bits per pixel are used?\n",
    "print('Bits per pixel are used: ',header['bitpix'])"
   ]
  },
  {
   "cell_type": "code",
   "execution_count": 10,
   "metadata": {},
   "outputs": [
    {
     "name": "stdout",
     "output_type": "stream",
     "text": [
      "Spatial units: mm, Temporal units: sec\n"
     ]
    }
   ],
   "source": [
    "# TASK: What are the units of measurement?\n",
    "spatial_units, temporal_units = header.get_xyzt_units()\n",
    "print(f'Spatial units: {spatial_units}, Temporal units: {temporal_units}')"
   ]
  },
  {
   "cell_type": "code",
   "execution_count": 11,
   "metadata": {},
   "outputs": [
    {
     "name": "stdout",
     "output_type": "stream",
     "text": [
      "Grid spacings (pixdim): [1. 1. 1.]\n"
     ]
    }
   ],
   "source": [
    "# TASK: Do we have a regular grid? What are grid spacings?\n",
    "pixdim = header['pixdim']\n",
    "print(f'Grid spacings (pixdim): {pixdim[1:4]}')"
   ]
  },
  {
   "cell_type": "code",
   "execution_count": null,
   "metadata": {},
   "outputs": [],
   "source": [
    "# TASK: What dimensions represent axial, sagittal, and coronal slices? How do you know?\n",
    "# Image orientation: ('R', 'A', 'S')\n",
    "# sagittal 34 slices from right to left\n",
    "# coronal 47 slices Anterior-Posterior\n",
    "# axial 40 slices Superior-Inferior"
   ]
  },
  {
   "cell_type": "code",
   "execution_count": 12,
   "metadata": {},
   "outputs": [
    {
     "name": "stdout",
     "output_type": "stream",
     "text": [
      "hippocampus sample volume (in mm³): 3372\n"
     ]
    }
   ],
   "source": [
    "# By now you should have enough information to decide what are dimensions of a single voxel\n",
    "# TASK: Compute the volume (in mm³) of a hippocampus using one of the labels you've loaded. \n",
    "# You should get a number between ~2200 and ~4500\n",
    "print(f'hippocampus sample volume (in mm³): {np.sum(label > 0)}')\n"
   ]
  },
  {
   "cell_type": "code",
   "execution_count": 14,
   "metadata": {},
   "outputs": [
    {
     "data": {
      "text/plain": [
       "3628"
      ]
     },
     "execution_count": 14,
     "metadata": {},
     "output_type": "execute_result"
    }
   ],
   "source": [
    "label_path_1 = '/data/TrainingSet/labels/hippocampus_026.nii.gz'\n",
    "label_nii_1 = nib.load(label_path_1)\n",
    "label_1 = label_nii_1.get_fdata()\n",
    "np.sum(label_1 > 0)"
   ]
  },
  {
   "cell_type": "markdown",
   "metadata": {},
   "source": [
    "## Plotting some charts"
   ]
  },
  {
   "cell_type": "code",
   "execution_count": 9,
   "metadata": {},
   "outputs": [
    {
     "data": {
      "text/plain": [
       "262"
      ]
     },
     "execution_count": 9,
     "metadata": {},
     "output_type": "execute_result"
    }
   ],
   "source": [
    "# TASK: Plot a histogram of all volumes that we have in our dataset and see how \n",
    "# our dataset measures against a slice of a normal population represented by the chart below.\n",
    "import os\n",
    "labels_folder_path  = '../data/TrainingSet/labels'\n",
    "nii_labels = []\n",
    "volumes = []\n",
    "for file_name in os.listdir(labels_folder_path):\n",
    "    if file_name.endswith('.nii') or file_name.endswith('.nii.gz'):\n",
    "        file_path = os.path.join(labels_folder_path, file_name)\n",
    "        nii_image = nib.load(file_path)\n",
    "        label = nii_image.get_fdata()\n",
    "        volume = np.sum(label > 0)\n",
    "        volumes.append(volume)\n",
    "        nii_labels.append(nii_image)\n",
    "len(nii_labels)"
   ]
  },
  {
   "cell_type": "code",
   "execution_count": 16,
   "metadata": {},
   "outputs": [
    {
     "data": {
      "text/plain": [
       "(array([258.,   3.,   0.,   0.,   0.,   0.,   0.,   0.,   0.,   1.]),\n",
       " array([ 2382.,  4214.,  6046.,  7878.,  9710., 11542., 13374., 15206.,\n",
       "        17038., 18870., 20702.]),\n",
       " <a list of 10 Patch objects>)"
      ]
     },
     "execution_count": 16,
     "metadata": {},
     "output_type": "execute_result"
    },
    {
     "data": {
      "image/png": "[encoded data removed]",
      "text/plain": [
       "<Figure size 432x288 with 1 Axes>"
      ]
     },
     "metadata": {
      "needs_background": "light"
     },
     "output_type": "display_data"
    }
   ],
   "source": [
    "plt.hist(volumes)"
   ]
  },
  {
   "cell_type": "code",
   "execution_count": 17,
   "metadata": {},
   "outputs": [
    {
     "data": {
      "text/plain": [
       "(array([13., 26., 29., 35., 41., 45., 38., 25.,  6.,  3.]),\n",
       " array([2382. , 2583.9, 2785.8, 2987.7, 3189.6, 3391.5, 3593.4, 3795.3,\n",
       "        3997.2, 4199.1, 4401. ]),\n",
       " <a list of 10 Patch objects>)"
      ]
     },
     "execution_count": 17,
     "metadata": {},
     "output_type": "execute_result"
    },
    {
     "data": {
      "image/png": "[encoded data removed]",
      "text/plain": [
       "<Figure size 432x288 with 1 Axes>"
      ]
     },
     "metadata": {
      "needs_background": "light"
     },
     "output_type": "display_data"
    }
   ],
   "source": [
    "volumes_remove_outliers = [v for v in volumes if v < 10000]\n",
    "plt.hist(volumes_remove_outliers)"
   ]
  },
  {
   "cell_type": "code",
   "execution_count": 18,
   "metadata": {},
   "outputs": [
    {
     "data": {
      "text/plain": [
       "(array([261.,   1.,   0.,   0.,   0.,   0.,   0.,   0.,   0.,   1.]),\n",
       " array([4.32480000e+04, 6.35659360e+06, 1.26699392e+07, 1.89832848e+07,\n",
       "        2.52966304e+07, 3.16099760e+07, 3.79233216e+07, 4.42366672e+07,\n",
       "        5.05500128e+07, 5.68633584e+07, 6.31767040e+07]),\n",
       " <a list of 10 Patch objects>)"
      ]
     },
     "execution_count": 18,
     "metadata": {},
     "output_type": "execute_result"
    },
    {
     "data": {
      "image/png": "[encoded data removed]",
      "text/plain": [
       "<Figure size 432x288 with 1 Axes>"
      ]
     },
     "metadata": {
      "needs_background": "light"
     },
     "output_type": "display_data"
    }
   ],
   "source": [
    "images_folder_path  = '/data/TrainingSet/images'\n",
    "image_volumes = []\n",
    "for file_name in os.listdir(images_folder_path):\n",
    "    if file_name.endswith('.nii.gz'):\n",
    "        file_path = os.path.join(images_folder_path, file_name)\n",
    "        nii_image = nib.load(file_path)\n",
    "        image_data = nii_image.get_fdata()\n",
    "        image_volumes.append(image_data.shape[0]*image_data.shape[1]*image_data.shape[2])\n",
    "\n",
    "\n",
    "plt.hist(image_volumes)"
   ]
  },
  {
   "cell_type": "markdown",
   "metadata": {},
   "source": [
    "<img src=\"img/nomogram_fem_right.svg\" width=400 align=left>"
   ]
  },
  {
   "cell_type": "markdown",
   "metadata": {},
   "source": [
    "Do you see any outliers? Why do you think it's so (might be not immediately obvious, but it's always a good idea to inspect) outliers closer. If you haven't found the images that do not belong, the histogram may help you."
   ]
  },
  {
   "cell_type": "markdown",
   "metadata": {},
   "source": [
    "In the real world we would have precise information about the ages and conditions of our patients, and understanding how our dataset measures against population norm would be the integral part of clinical validation that we talked about in last lesson. Unfortunately, we do not have this information about this dataset, so we can only guess why it measures the way it is. If you would like to explore further, you can use the [calculator from HippoFit project](http://www.smanohar.com/biobank/calculator.html) to see how our dataset compares against different population slices"
   ]
  },
  {
   "cell_type": "markdown",
   "metadata": {},
   "source": [
    "Did you notice anything odd about the label files? We hope you did! The mask seems to have two classes, labeled with values `1` and `2` respectively. If you visualized sagittal or axial views, you might have gotten a good guess of what those are. Class 1 is the anterior segment of the hippocampus and class 2 is the posterior one. \n",
    "\n",
    "For the purpose of volume calculation we do not care about the distinction, however we will still train our network to differentiate between these two classes and the background"
   ]
  },
  {
   "cell_type": "code",
   "execution_count": 19,
   "metadata": {},
   "outputs": [
    {
     "name": "stdout",
     "output_type": "stream",
     "text": [
      "hippocampus_281.nii.gz\n"
     ]
    }
   ],
   "source": [
    "# TASK: Copy the clean dataset to the output folder inside section1/out. You will use it in the next Section\n",
    "#len(volumes_remove_outliers)\n",
    "for file_name in os.listdir(labels_folder_path):\n",
    "    if file_name.endswith('.nii.gz'):\n",
    "        file_path = os.path.join(labels_folder_path, file_name)\n",
    "        nii_image = nib.load(file_path)\n",
    "        label = nii_image.get_fdata()\n",
    "        volume = np.sum(label > 0)\n",
    "        if volume > 5000: print(file_name)"
   ]
  },
  {
   "cell_type": "code",
   "execution_count": 19,
   "metadata": {},
   "outputs": [
    {
     "data": {
      "text/plain": [
       "260"
      ]
     },
     "execution_count": 19,
     "metadata": {},
     "output_type": "execute_result"
    }
   ],
   "source": [
    "images_folder_path  = '../data/TrainingSet/images'\n",
    "valid_images = []\n",
    "valid_labels = []\n",
    "for file_name in os.listdir(labels_folder_path):\n",
    "    if file_name.endswith('.nii.gz') and file_name != 'hippocampus_281.nii.gz':\n",
    "        image_path = os.path.join(images_folder_path, file_name)\n",
    "        #label_path = os.path.join(labels_folder_path, file_name)\n",
    "        nii_image = nib.load(image_path)\n",
    "        if nii_image == None:\n",
    "            continue\n",
    "        if isinstance(nii_image, nib.nifti1.Nifti1Image) == False:\n",
    "            continue\n",
    "        image_data = nii_image.get_fdata()\n",
    "        #print(image_data.shape)\n",
    "        if image_data.shape[0]*image_data.shape[1]*image_data.shape[2] > 6.0e+06:\n",
    "            continue\n",
    "        valid_images.append(file_name)\n",
    "        nii_label = nib.load(os.path.join(labels_folder_path, file_name))\n",
    "        valid_labels.append(nii_label.get_fdata())\n",
    "len(valid_images)"
   ]
  },
  {
   "cell_type": "code",
   "execution_count": 23,
   "metadata": {},
   "outputs": [
    {
     "data": {
      "image/png": "[encoded data removed]",
      "text/plain": [
       "<Figure size 1000x300 with 2 Axes>"
      ]
     },
     "metadata": {},
     "output_type": "display_data"
    }
   ],
   "source": [
    "#Anterior-Posterior\n",
    "anterior_volumes = [np.sum(v==1) for v in valid_labels]\n",
    "posterior_volumes = [np.sum(v==2) for v in valid_labels]\n",
    "\n",
    "f, (ax1, ax2) = plt.subplots(1, 2, sharey=True, figsize =(10,3))\n",
    "ax1.hist(anterior_volumes)\n",
    "ax1.set_title(f'anterior distribution')\n",
    "ax2.hist(posterior_volumes)\n",
    "ax2.set_title(f'posterio distribution')\n",
    "plt.show() "
   ]
  },
  {
   "cell_type": "code",
   "execution_count": 22,
   "metadata": {},
   "outputs": [],
   "source": [
    "import shutil\n",
    "images_folder_out = 'out/images'\n",
    "os.makedirs(images_folder_out, exist_ok=True)\n",
    "labels_folder_out = 'out/labels'\n",
    "os.makedirs(labels_folder_out, exist_ok=True)\n",
    "for file_name in valid_images:\n",
    "    image_path_source = os.path.join(images_folder_path, file_name)\n",
    "    image_path_out = os.path.join(images_folder_out, file_name)\n",
    "    shutil.copy(image_path_source, image_path_out)\n",
    "\n",
    "    label_path_source = os.path.join(labels_folder_path, file_name)\n",
    "    label_path_out = os.path.join(labels_folder_out, file_name)\n",
    "    shutil.copy(label_path_source, label_path_out)"
   ]
  },
  {
   "cell_type": "markdown",
   "metadata": {},
   "source": [
    "## Final remarks\n",
    "\n",
    "Congratulations! You have finished Section 1. \n",
    "\n",
    "In this section you have inspected a dataset of MRI scans and related segmentations, represented as NIFTI files. We have visualized some slices, and understood the layout of the data. We have inspected file headers to understand what how the image dimensions relate to the physical world and we have understood how to measure our volume. We have then inspected dataset for outliers, and have created a clean set that is ready for consumption by our ML algorithm. \n",
    "\n",
    "In the next section you will create training and testing pipelines for a UNet-based machine learning model, run and monitor the execution, and will produce test metrics. This will arm you with all you need to use the model in the clinical context and reason about its performance!"
   ]
  }
 ],
 "metadata": {
  "kernelspec": {
   "display_name": "base",
   "language": "python",
   "name": "python3"
  },
  "language_info": {
   "codemirror_mode": {
    "name": "ipython",
    "version": 3
   },
   "file_extension": ".py",
   "mimetype": "text/x-python",
   "name": "python",
   "nbconvert_exporter": "python",
   "pygments_lexer": "ipython3",
   "version": "3.12.4"
  }
 },
 "nbformat": 4,
 "nbformat_minor": 2
}
